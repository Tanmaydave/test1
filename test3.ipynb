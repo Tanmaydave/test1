print("Hello")
print()
type('hello')
