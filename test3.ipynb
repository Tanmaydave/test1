print("Hello")
print()
type('hello')
print("Tanmay")